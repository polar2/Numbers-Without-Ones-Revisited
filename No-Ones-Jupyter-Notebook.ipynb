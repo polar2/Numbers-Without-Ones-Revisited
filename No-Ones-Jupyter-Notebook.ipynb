{
 "cells": [
  {
   "cell_type": "code",
   "execution_count": 1,
   "id": "a9868c01",
   "metadata": {},
   "outputs": [
    {
     "data": {
      "text/plain": [
       "level_array (generic function with 1 method)"
      ]
     },
     "execution_count": 1,
     "metadata": {},
     "output_type": "execute_result"
    }
   ],
   "source": [
    "# level(n) is the least m such that n*m is one-free\n",
    "\n",
    "maxleveltest = 100  # We know that every number < 200 has a 1-eliminating multiplier < 50 if it has any\n",
    "\n",
    "function level(n, maxleveltest) \n",
    "   for i in 1:maxleveltest\n",
    "        if occursin('1', string(i*n)) == false \n",
    "           return i\n",
    "        end\n",
    "    end\n",
    "return \"error\"\n",
    "end\n",
    "\n",
    "# println(\"level(361)=\", level(361, maxleveltest))\n",
    "# println(level(361, maxleveltest) * 361, \" contains no ones.\")\n",
    "\n",
    "# for i in 1:20\n",
    "#     println(\"The first one-eliminating multiplier for \", i, \" is \", level(i,maxleveltest), \n",
    "#         \" and \", level(i,maxleveltest), \" times \", i, \" = \", i*level(i, maxleveltest) )\n",
    "# end\n",
    "\n",
    "level_array(n::Integer, maxleveltest) = [level(i, maxleveltest) for i in 1:n]\n",
    "#println(level_array(20, maxleveltest))\n",
    "\n",
    "    "
   ]
  },
  {
   "cell_type": "code",
   "execution_count": 2,
   "id": "654b82c4",
   "metadata": {},
   "outputs": [
    {
     "data": {
      "text/plain": [
       "raw_c_array (generic function with 1 method)"
      ]
     },
     "execution_count": 2,
     "metadata": {},
     "output_type": "execute_result"
    }
   ],
   "source": [
    "#Crelle multiplier\n",
    "\n",
    "function twos_number(n)  #returns the value of a string of n copies of the digit 2 in base ten (helper \n",
    "    # function for Crelle multiplier)\n",
    "    if n==1\n",
    "        return 2\n",
    "    else\n",
    "        return 2*big(10)^(n-1) + twos_number(n-1)  # 10^n does not work for n>22 so use \"big\"\n",
    "    end\n",
    "end\n",
    "\n",
    "#twos_number(5)\n",
    "    \n",
    "function crelle_product(k::Integer)\n",
    "    for i in 2:k+1     #i is the longer sequence\n",
    "        for j in i-1:-1:1    #j is the shorter sequence. We go backwards to check smaller differences before larger\n",
    "            #println(\"i= \",twos_number(i), \" j= \", twos_number(j),  \"mods = \", \n",
    "                #mod(twos_number(i),k), \" and \", mod(twos_number(j),k))     \n",
    "            if mod(twos_number(i),k)== mod(twos_number(j),k)\n",
    "                return (twos_number(i)-twos_number(j))\n",
    "            end\n",
    "        end\n",
    "    end    \n",
    "end  \n",
    "#println(crelle_product(3))\n",
    "\n",
    "crelle_multiplier(k::Integer) = div(crelle_product(k),k)\n",
    "\n",
    "function commas(num::Integer)   # Commas make it easier to read big numbers\n",
    "    str = string(num)\n",
    "    return replace(str, r\"(?<=[0-9])(?=(?:[0-9]{3})+(?![0-9]))\" => \",\")\n",
    "end\n",
    "\n",
    "# for i in 1:20\n",
    "#    println(commas(crelle_multiplier(i)), \"   \", crelle_multiplier(i)*i)\n",
    "# end\n",
    "\n",
    "c_array(n::Integer) = ([commas(crelle_multiplier(i)) for i in 1:n])\n",
    "raw_c_array(n::Integer) = [crelle_multiplier(i) for i in 1:n]  #c_array is string for easy viewing, but we need raw version to use findmax\n",
    "\n",
    "# println(c_array(20))\n",
    "# println(raw_c_array(20))"
   ]
  },
  {
   "cell_type": "code",
   "execution_count": 3,
   "id": "96b74e12",
   "metadata": {},
   "outputs": [
    {
     "data": {
      "text/plain": [
       "r_cb_array (generic function with 1 method)"
      ]
     },
     "execution_count": 3,
     "metadata": {},
     "output_type": "execute_result"
    }
   ],
   "source": [
    "\n",
    "# Crelle bound\n",
    "\n",
    "c = 2+2/9 # coefficient for Crelle bound\n",
    "c_bound(k) = (c*(1/k)*big(10)^k-2/k)\n",
    "\n",
    "\n",
    "\n",
    "\n",
    "function r_c_bound(k) # round Crelle bound to fit table.  For some reason round \n",
    "    # method returns multiple digits for k=1 and k=20.\n",
    "    if k== 1  \n",
    "        return 20.2\n",
    "    elseif k== 20  \n",
    "        return 20.2\n",
    "    else\n",
    "        return round(c_bound(k), sigdigits =3)\n",
    "    end\n",
    "end\n",
    "\n",
    "# for i in 1:25\n",
    "#     println(r_c_bound(i))\n",
    "# end\n",
    "\n",
    "\n",
    "r_cb_array(n) =[r_c_bound(i) for i in 1:n]\n",
    "# println(r_cb_array(25))"
   ]
  },
  {
   "cell_type": "code",
   "execution_count": 4,
   "id": "0be553a5",
   "metadata": {},
   "outputs": [
    {
     "name": "stdout",
     "output_type": "stream",
     "text": [
      "┌────────┬──────────────────┬─────────────────────────────┬──────────────┐\n",
      "│\u001b[1m Number \u001b[0m│\u001b[1m Least Multiplier \u001b[0m│\u001b[1m           Crelle Multiplier \u001b[0m│\u001b[1m Crelle Bound \u001b[0m│\n",
      "├────────┼──────────────────┼─────────────────────────────┼──────────────┤\n",
      "│      1 │                2 │                          20 │         20.2 │\n",
      "│      2 │                1 │                          10 │        110.0 │\n",
      "│      3 │                1 │                         740 │        740.0 │\n",
      "│      4 │                1 │                           5 │       5560.0 │\n",
      "│      5 │                1 │                           4 │      44400.0 │\n",
      "│      6 │                1 │                         370 │     370000.0 │\n",
      "│      7 │                1 │                     317,460 │     3.17e+06 │\n",
      "│      8 │                1 │                          25 │     2.78e+07 │\n",
      "│      9 │                1 │                 246,913,580 │     2.47e+08 │\n",
      "│     10 │                2 │                           2 │     2.22e+09 │\n",
      "│     11 │                2 │                          20 │     2.02e+10 │\n",
      "│     12 │                2 │                         185 │     1.85e+11 │\n",
      "│     13 │                2 │                     170,940 │     1.71e+12 │\n",
      "│     14 │                2 │                     158,730 │     1.59e+13 │\n",
      "│     15 │                2 │                         148 │     1.48e+14 │\n",
      "│     16 │                2 │                         125 │     1.39e+15 │\n",
      "│     17 │                2 │       1,307,189,542,483,660 │     1.31e+16 │\n",
      "│     18 │                2 │                 123,456,790 │     1.23e+17 │\n",
      "│     19 │                2 │     116,959,064,327,485,380 │     1.17e+18 │\n",
      "│     20 │                1 │                           1 │         20.2 │\n",
      "│     21 │                2 │                     105,820 │     1.06e+20 │\n",
      "│     22 │                1 │                          10 │     1.01e+21 │\n",
      "│     23 │                1 │ 966,183,574,879,227,053,140 │     9.66e+21 │\n",
      "│     24 │                1 │                         925 │     9.26e+22 │\n",
      "│     25 │                1 │                           8 │     8.89e+23 │\n",
      "└────────┴──────────────────┴─────────────────────────────┴──────────────┘\n"
     ]
    }
   ],
   "source": [
    "# Make chart for paper\n",
    "using DataFrames\n",
    "using PrettyTables\n",
    "dict(n) = Dict(\"Number\"=>collect(1:n), \"Crelle Bound\"=>r_cb_array(n), \"Crelle Multiplier\"=>c_array(n), \n",
    "    \"Least Multiplier\"=>level_array(n,50))\n",
    "\n",
    "df = DataFrame(dict(25))\n",
    "select!(df,[4,3,2,1])\n",
    "pretty_table(df, nosubheader=true)\n",
    "\n",
    "open(\"multiplier_table.pdf\", \"w\") do f\n",
    "    pretty_table(f, df, nosubheader=true)\n",
    "end\n"
   ]
  },
  {
   "cell_type": "code",
   "execution_count": 5,
   "id": "8797a3d9",
   "metadata": {},
   "outputs": [
    {
     "name": "stdout",
     "output_type": "stream",
     "text": [
      "The crelle multiplier of 81 is 2.743484224965706447187928669410150891632373113854595336076817558299039780521267e+79\n",
      "The crelle bound of 81 is 2.74348422496570633344337153403103002347052097320556640625e+79\n"
     ]
    }
   ],
   "source": [
    "# Example for paper\n",
    "println(\"The crelle multiplier of 81 is \", float(crelle_multiplier(81)))\n",
    "println(\"The crelle bound of 81 is \", c_bound(81))"
   ]
  },
  {
   "cell_type": "code",
   "execution_count": 6,
   "id": "5b95663c",
   "metadata": {},
   "outputs": [
    {
     "name": "stdout",
     "output_type": "stream",
     "text": [
      "number 4580102is of level  49\n",
      "number 4580201is of level  49\n",
      "  4.912047 seconds (122.98 M allocations: 4.753 GiB, 9.19% gc time, 0.62% compilation time)\n"
     ]
    }
   ],
   "source": [
    "#Find all numbers between one and ten million of level greater than 48.  (There are two.)\n",
    "\n",
    "@time begin\n",
    "    maxexemplartest = 10000000\n",
    "    maxleveltest =100\n",
    "    \n",
    "    for i in 1:maxexemplartest\n",
    "        if level(i, maxleveltest) == \"error\"\n",
    "            println(\"number \",i, \"is of level greater than \", maxleveltest)\n",
    "        elseif level(i, maxleveltest)>48\n",
    "            println(\"number \",i, \"is of level  \", level(i,maxleveltest))\n",
    "        end\n",
    "    end\n",
    "end"
   ]
  },
  {
   "cell_type": "code",
   "execution_count": 7,
   "id": "f756bd10",
   "metadata": {},
   "outputs": [
    {
     "data": {
      "text/plain": [
       "224424998"
      ]
     },
     "execution_count": 7,
     "metadata": {},
     "output_type": "execute_result"
    }
   ],
   "source": [
    "# Check that the product above is ones-free\n",
    "4580102*49 "
   ]
  },
  {
   "cell_type": "code",
   "execution_count": 8,
   "id": "1323da53",
   "metadata": {},
   "outputs": [
    {
     "name": "stdout",
     "output_type": "stream",
     "text": [
      " 29.683249 seconds (523.47 M allocations: 24.146 GiB, 13.23% gc time)\n"
     ]
    },
    {
     "data": {
      "text/plain": [
       "(98, 22900501)"
      ]
     },
     "execution_count": 8,
     "metadata": {},
     "output_type": "execute_result"
    }
   ],
   "source": [
    "# Find largest level for numbers up to one hundred million.\n",
    "@time begin  #On my computer findmax(level_array(10^8,200)) takes about 30 seconds\n",
    "   findmax(level_array(100000000,200))\n",
    "end"
   ]
  },
  {
   "cell_type": "code",
   "execution_count": 9,
   "id": "c6b8e808",
   "metadata": {},
   "outputs": [
    {
     "name": "stdout",
     "output_type": "stream",
     "text": [
      "maxCrellpultiplier =22909507445589919816723940435280641466208476517754868270332187857961053837342497136311569301260\n",
      "exemplar = 97\n",
      "float of Crelle multiplier = 2.290950744558991981672394043528064146620847651775486827033218785796105383734257e+94\n",
      "Crelle product = 2222222222222222222222222222222222222222222222222222222222222222222222222222222222222222222222220\n",
      "  2.212095 seconds (29.74 M allocations: 608.896 MiB, 14.49% gc time, 1.44% compilation time)\n"
     ]
    }
   ],
   "source": [
    "# find largest Crelle muliplier for numbers between 1 and 100\n",
    "@time begin     \n",
    "   maxCrelle, exemplar =findmax(raw_c_array(100))\n",
    "   println(\"maxCrellpultiplier =\", maxCrelle)\n",
    "   println(\"exemplar = \", exemplar)\n",
    "   println(\"float of Crelle multiplier = \", float(maxCrelle))\n",
    "   println(\"Crelle product = \", maxCrelle*exemplar)\n",
    "end"
   ]
  },
  {
   "cell_type": "code",
   "execution_count": 10,
   "id": "6ea6c9a8",
   "metadata": {},
   "outputs": [
    {
     "name": "stdout",
     "output_type": "stream",
     "text": [
      "maxCrellpultiplier =22606533288120266757092799819147733695037865943257601446818130439697072453939188425454956482423420368486492596360348140612637052108059229117214875098903583135526167062280999208771334915790663501752006329829320673674691985983949361365434610602464112128405109076523115180287102972759127387815078557703176217926980897479371538374590256584152820165027693003277947326777438679778455973776421385780490561772352209788628913756075505821182321690968689951395953430541426472250480388832372555668588221996156889341019554651294224030744885271843562789646207754040917825251497682830337967672657397988018537357296258618740816095851701141629931050073471233186390866960551599412230134508873064315587204702158923929015485475302362382728608567876116197581100938171131456991070419351192494630948344071436645190460042952413247428506838476319656380694020571945292189442748954447835424437662484458008364417316604498700124335933084661467164010399005312535322708262687916807957499717418333898496665536340\n",
      "exemplar = 983\n",
      "float of Crelle multiplier = 2.260653328812026675709279981914773369503786594325760144681813043969707245393916e+979\n",
      "Crelle product = 22222222222222222222222222222222222222222222222222222222222222222222222222222222222222222222222222222222222222222222222222222222222222222222222222222222222222222222222222222222222222222222222222222222222222222222222222222222222222222222222222222222222222222222222222222222222222222222222222222222222222222222222222222222222222222222222222222222222222222222222222222222222222222222222222222222222222222222222222222222222222222222222222222222222222222222222222222222222222222222222222222222222222222222222222222222222222222222222222222222222222222222222222222222222222222222222222222222222222222222222222222222222222222222222222222222222222222222222222222222222222222222222222222222222222222222222222222222222222222222222222222222222222222222222222222222222222222222222222222222222222222222222222222222222222222222222222222222222222222222222222222222222222222222222222222222222222222222222222222222222222222222222222222222222222222222222222222222222222222222222222222222222222222222220\n",
      "17454.175585 seconds (186.13 G allocations: 6.305 TiB, 26.28% gc time)\n"
     ]
    }
   ],
   "source": [
    "# find largest Crelle muliplier for numbers between 1 and 1000\n",
    "@time begin     # On my computer findmax(raw_c_array(1000) takes just under five hours to compute.)\n",
    "   maxCrelle, exemplar =findmax(raw_c_array(1000))\n",
    "   println(\"maxCrellpultiplier =\", maxCrelle)\n",
    "   println(\"exemplar = \", exemplar)\n",
    "   println(\"float of Crelle multiplier = \", float(maxCrelle))\n",
    "   println(\"Crelle product = \", maxCrelle*exemplar)\n",
    "end"
   ]
  },
  {
   "cell_type": "code",
   "execution_count": 11,
   "id": "9ca26a9b",
   "metadata": {},
   "outputs": [
    {
     "name": "stdout",
     "output_type": "stream",
     "text": [
      "least exemplar of level 49 = 4580102\n",
      "least exemplar of level 59 = none less than maxexemplartest\n"
     ]
    }
   ],
   "source": [
    "# minat(n:maxexemplartest) returns smallest number of level n if one smaller than maxexmplartest exits; otherwise returns \"none\" or \"none less than maxexemplartest\" \n",
    "\n",
    "\n",
    "function minat(n, maxexemplartest)\n",
    "    if n % 10  == 0        # Since we know numbers ending in 0 are not levels, it saves time to say this now.\n",
    "        return \"none\"\n",
    "    else\n",
    "       for i in 1:maxexemplartest\n",
    "           if level(i,maxexemplartest) == n\n",
    "               return i\n",
    "           end\n",
    "       end\n",
    "    end\n",
    "return \"none less than maxexemplartest\"\n",
    "end\n",
    "\n",
    "println(\"least exemplar of level 49 = \", minat(49,maxexemplartest))\n",
    "println(\"least exemplar of level 59 = \", minat(59,maxexemplartest))\n"
   ]
  },
  {
   "cell_type": "code",
   "execution_count": 12,
   "id": "fcbfdf10",
   "metadata": {},
   "outputs": [
    {
     "name": "stdout",
     "output_type": "stream",
     "text": [
      "Any[2, 1, 81, 51, 531, 5421, 3157, 2571, 25517, \"none\", 25157, 20531, 26571, 143053, 15703, 130305, 140257, 125703, 105302, \"none\", 109027, 91027, 90271, 102053, 839031, 7701303, 7428017, 7142859, 701303, \"none\", 6516354, 6253014, 6253013, 5890103, 5780102, 5701027, 5420102, 540102, 530102, \"none\", 5010268, 5240103, 5130103, 4550102, 4570102, 5010269, 5026901, 43008018, 4580102, \"none\", 40050102, 39005301, 39008631, 38008513, 37007018, 36513007, 35131007, 35007013, 50251301, \"none\", 328007013, 40060201, 321006015, 32006013, 40050201, 303900501, 30200501, 30050102, 30050201, \"none\", 290050102, 277890051, 274006012, 270900501, 30134006, 26800501, 260050102, 30060134, 257700501, \"none\", 250050102, 244005301, 241005401, 239005301, 24005401, 232900501, 231004009, 227900501, 229100501, \"none\", 2200400915, 240060301, 220045801, 2130040501, 2110040084, 229900501, 210045801, 22900501, 210043008, \"none\"]\n",
      "3253.009971 seconds (79.58 G allocations: 3.474 TiB, 13.97% gc time, 0.01% compilation time)\n"
     ]
    }
   ],
   "source": [
    "@time begin  #takes 3.5 hours with maxexemplartest at 10^10\n",
    "    \n",
    "   minat_array = [minat(i,10000000000) for i in 1:100]\n",
    "   println(minat_array)\n",
    "end"
   ]
  },
  {
   "cell_type": "code",
   "execution_count": 13,
   "id": "de9183c4",
   "metadata": {},
   "outputs": [
    {
     "data": {
      "text/html": [
       "<div class=\"data-frame\"><p>100 rows × 2 columns</p><table class=\"data-frame\"><thead><tr><th></th><th>Level</th><th>Least_Exemplar</th></tr><tr><th></th><th title=\"Int64\">Int64</th><th title=\"Any\">Any</th></tr></thead><tbody><tr><th>1</th><td>1</td><td>2</td></tr><tr><th>2</th><td>2</td><td>1</td></tr><tr><th>3</th><td>3</td><td>81</td></tr><tr><th>4</th><td>4</td><td>51</td></tr><tr><th>5</th><td>5</td><td>531</td></tr><tr><th>6</th><td>6</td><td>5421</td></tr><tr><th>7</th><td>7</td><td>3157</td></tr><tr><th>8</th><td>8</td><td>2571</td></tr><tr><th>9</th><td>9</td><td>25517</td></tr><tr><th>10</th><td>10</td><td>none</td></tr><tr><th>11</th><td>11</td><td>25157</td></tr><tr><th>12</th><td>12</td><td>20531</td></tr><tr><th>13</th><td>13</td><td>26571</td></tr><tr><th>14</th><td>14</td><td>143053</td></tr><tr><th>15</th><td>15</td><td>15703</td></tr><tr><th>16</th><td>16</td><td>130305</td></tr><tr><th>17</th><td>17</td><td>140257</td></tr><tr><th>18</th><td>18</td><td>125703</td></tr><tr><th>19</th><td>19</td><td>105302</td></tr><tr><th>20</th><td>20</td><td>none</td></tr><tr><th>21</th><td>21</td><td>109027</td></tr><tr><th>22</th><td>22</td><td>91027</td></tr><tr><th>23</th><td>23</td><td>90271</td></tr><tr><th>24</th><td>24</td><td>102053</td></tr><tr><th>25</th><td>25</td><td>839031</td></tr><tr><th>26</th><td>26</td><td>7701303</td></tr><tr><th>27</th><td>27</td><td>7428017</td></tr><tr><th>28</th><td>28</td><td>7142859</td></tr><tr><th>29</th><td>29</td><td>701303</td></tr><tr><th>30</th><td>30</td><td>none</td></tr><tr><th>&vellip;</th><td>&vellip;</td><td>&vellip;</td></tr></tbody></table></div>"
      ],
      "text/latex": [
       "\\begin{tabular}{r|cc}\n",
       "\t& Level & Least\\_Exemplar\\\\\n",
       "\t\\hline\n",
       "\t& Int64 & Any\\\\\n",
       "\t\\hline\n",
       "\t1 & 1 & 2 \\\\\n",
       "\t2 & 2 & 1 \\\\\n",
       "\t3 & 3 & 81 \\\\\n",
       "\t4 & 4 & 51 \\\\\n",
       "\t5 & 5 & 531 \\\\\n",
       "\t6 & 6 & 5421 \\\\\n",
       "\t7 & 7 & 3157 \\\\\n",
       "\t8 & 8 & 2571 \\\\\n",
       "\t9 & 9 & 25517 \\\\\n",
       "\t10 & 10 & none \\\\\n",
       "\t11 & 11 & 25157 \\\\\n",
       "\t12 & 12 & 20531 \\\\\n",
       "\t13 & 13 & 26571 \\\\\n",
       "\t14 & 14 & 143053 \\\\\n",
       "\t15 & 15 & 15703 \\\\\n",
       "\t16 & 16 & 130305 \\\\\n",
       "\t17 & 17 & 140257 \\\\\n",
       "\t18 & 18 & 125703 \\\\\n",
       "\t19 & 19 & 105302 \\\\\n",
       "\t20 & 20 & none \\\\\n",
       "\t21 & 21 & 109027 \\\\\n",
       "\t22 & 22 & 91027 \\\\\n",
       "\t23 & 23 & 90271 \\\\\n",
       "\t24 & 24 & 102053 \\\\\n",
       "\t25 & 25 & 839031 \\\\\n",
       "\t26 & 26 & 7701303 \\\\\n",
       "\t27 & 27 & 7428017 \\\\\n",
       "\t28 & 28 & 7142859 \\\\\n",
       "\t29 & 29 & 701303 \\\\\n",
       "\t30 & 30 & none \\\\\n",
       "\t$\\dots$ & $\\dots$ & $\\dots$ \\\\\n",
       "\\end{tabular}\n"
      ],
      "text/plain": [
       "\u001b[1m100×2 DataFrame\u001b[0m\n",
       "\u001b[1m Row \u001b[0m│\u001b[1m Level \u001b[0m\u001b[1m Least_Exemplar \u001b[0m\n",
       "\u001b[1m     \u001b[0m│\u001b[90m Int64 \u001b[0m\u001b[90m Any            \u001b[0m\n",
       "─────┼───────────────────────\n",
       "   1 │     1  2\n",
       "   2 │     2  1\n",
       "   3 │     3  81\n",
       "   4 │     4  51\n",
       "   5 │     5  531\n",
       "   6 │     6  5421\n",
       "   7 │     7  3157\n",
       "   8 │     8  2571\n",
       "   9 │     9  25517\n",
       "  10 │    10  none\n",
       "  11 │    11  25157\n",
       "  ⋮  │   ⋮          ⋮\n",
       "  91 │    91  2200400915\n",
       "  92 │    92  240060301\n",
       "  93 │    93  220045801\n",
       "  94 │    94  2130040501\n",
       "  95 │    95  2110040084\n",
       "  96 │    96  229900501\n",
       "  97 │    97  210045801\n",
       "  98 │    98  22900501\n",
       "  99 │    99  210043008\n",
       " 100 │   100  none\n",
       "\u001b[36m              79 rows omitted\u001b[0m"
      ]
     },
     "execution_count": 13,
     "metadata": {},
     "output_type": "execute_result"
    }
   ],
   "source": [
    "df = DataFrame(Level = 1:100, Least_Exemplar = minat_array)"
   ]
  },
  {
   "cell_type": "code",
   "execution_count": 14,
   "id": "7faee416",
   "metadata": {
    "scrolled": false
   },
   "outputs": [
    {
     "name": "stdout",
     "output_type": "stream",
     "text": [
      "┌───────┬────────────────┐\n",
      "│\u001b[1m Level \u001b[0m│\u001b[1m Least_Exemplar \u001b[0m│\n",
      "├───────┼────────────────┤\n",
      "│     1 │              2 │\n",
      "│     2 │              1 │\n",
      "│     3 │             81 │\n",
      "│     4 │             51 │\n",
      "│     5 │            531 │\n",
      "│     6 │           5421 │\n",
      "│     7 │           3157 │\n",
      "│     8 │           2571 │\n",
      "│     9 │          25517 │\n",
      "│    10 │           none │\n",
      "│    11 │          25157 │\n",
      "│    12 │          20531 │\n",
      "│    13 │          26571 │\n",
      "│    14 │         143053 │\n",
      "│    15 │          15703 │\n",
      "│    16 │         130305 │\n",
      "│    17 │         140257 │\n",
      "│    18 │         125703 │\n",
      "│    19 │         105302 │\n",
      "│    20 │           none │\n",
      "│    21 │         109027 │\n",
      "│    22 │          91027 │\n",
      "│    23 │          90271 │\n",
      "│    24 │         102053 │\n",
      "│    25 │         839031 │\n",
      "└───────┴────────────────┘\n",
      "┌───────┬────────────────┐\n",
      "│\u001b[1m Level \u001b[0m│\u001b[1m Least_Exemplar \u001b[0m│\n",
      "├───────┼────────────────┤\n",
      "│    26 │        7701303 │\n",
      "│    27 │        7428017 │\n",
      "│    28 │        7142859 │\n",
      "│    29 │         701303 │\n",
      "│    30 │           none │\n",
      "│    31 │        6516354 │\n",
      "│    32 │        6253014 │\n",
      "│    33 │        6253013 │\n",
      "│    34 │        5890103 │\n",
      "│    35 │        5780102 │\n",
      "│    36 │        5701027 │\n",
      "│    37 │        5420102 │\n",
      "│    38 │         540102 │\n",
      "│    39 │         530102 │\n",
      "│    40 │           none │\n",
      "│    41 │        5010268 │\n",
      "│    42 │        5240103 │\n",
      "│    43 │        5130103 │\n",
      "│    44 │        4550102 │\n",
      "│    45 │        4570102 │\n",
      "│    46 │        5010269 │\n",
      "│    47 │        5026901 │\n",
      "│    48 │       43008018 │\n",
      "│    49 │        4580102 │\n",
      "│    50 │           none │\n",
      "└───────┴────────────────┘\n",
      "┌───────┬────────────────┐\n",
      "│\u001b[1m Level \u001b[0m│\u001b[1m Least_Exemplar \u001b[0m│\n",
      "├───────┼────────────────┤\n",
      "│    51 │       40050102 │\n",
      "│    52 │       39005301 │\n",
      "│    53 │       39008631 │\n",
      "│    54 │       38008513 │\n",
      "│    55 │       37007018 │\n",
      "│    56 │       36513007 │\n",
      "│    57 │       35131007 │\n",
      "│    58 │       35007013 │\n",
      "│    59 │       50251301 │\n",
      "│    60 │           none │\n",
      "│    61 │      328007013 │\n",
      "│    62 │       40060201 │\n",
      "│    63 │      321006015 │\n",
      "│    64 │       32006013 │\n",
      "│    65 │       40050201 │\n",
      "│    66 │      303900501 │\n",
      "│    67 │       30200501 │\n",
      "│    68 │       30050102 │\n",
      "│    69 │       30050201 │\n",
      "│    70 │           none │\n",
      "│    71 │      290050102 │\n",
      "│    72 │      277890051 │\n",
      "│    73 │      274006012 │\n",
      "│    74 │      270900501 │\n",
      "│    75 │       30134006 │\n",
      "└───────┴────────────────┘\n",
      "┌───────┬────────────────┐\n",
      "│\u001b[1m Level \u001b[0m│\u001b[1m Least_Exemplar \u001b[0m│\n",
      "├───────┼────────────────┤\n",
      "│    76 │       26800501 │\n",
      "│    77 │      260050102 │\n",
      "│    78 │       30060134 │\n",
      "│    79 │      257700501 │\n",
      "│    80 │           none │\n",
      "│    81 │      250050102 │\n",
      "│    82 │      244005301 │\n",
      "│    83 │      241005401 │\n",
      "│    84 │      239005301 │\n",
      "│    85 │       24005401 │\n",
      "│    86 │      232900501 │\n",
      "│    87 │      231004009 │\n",
      "│    88 │      227900501 │\n",
      "│    89 │      229100501 │\n",
      "│    90 │           none │\n",
      "│    91 │     2200400915 │\n",
      "│    92 │      240060301 │\n",
      "│    93 │      220045801 │\n",
      "│    94 │     2130040501 │\n",
      "│    95 │     2110040084 │\n",
      "│    96 │      229900501 │\n",
      "│    97 │      210045801 │\n",
      "│    98 │       22900501 │\n",
      "│    99 │      210043008 │\n",
      "│   100 │           none │\n",
      "└───────┴────────────────┘\n"
     ]
    }
   ],
   "source": [
    "df1=@view(df[1:25, :])\n",
    "df2=@view(df[26:50, :])\n",
    "df3=@view(df[51:75, :])\n",
    "df4=@view(df[76:100, :])\n",
    "\n",
    "pretty_table(df1, nosubheader=true)\n",
    "pretty_table(df2, nosubheader=true)\n",
    "pretty_table(df3, nosubheader=true)\n",
    "pretty_table(df4, nosubheader=true)\n"
   ]
  },
  {
   "cell_type": "code",
   "execution_count": 15,
   "id": "90aa563d",
   "metadata": {},
   "outputs": [
    {
     "data": {
      "image/png": "[encoded data removed]",
      "text/plain": [
       "Scene (800px, 200px):\n",
       "  18 Plots:\n",
       "    ├ Combined{Makie.poly, Tuple{Vector{Vector{Point{2, Float32}}}}}\n",
       "    ├ LineSegments{Tuple{Vector{Point{2, Float32}}}}\n",
       "    ├ LineSegments{Tuple{Vector{Point{2, Float32}}}}\n",
       "    ├ LineSegments{Tuple{Vector{Point{2, Float32}}}}\n",
       "    ├ LineSegments{Tuple{Vector{Point{2, Float32}}}}\n",
       "    ├ LineSegments{Tuple{Vector{Point{2, Float32}}}}\n",
       "    ├ LineSegments{Tuple{Vector{Point{2, Float32}}}}\n",
       "    ├ MakieCore.Text{Tuple{String}}\n",
       "    ├ Lines{Tuple{Vector{Point{2, Float32}}}}\n",
       "    ├ MakieCore.Text{Tuple{Vector{Tuple{AbstractString, Point{2, Float32}}}}}\n",
       "    ├ LineSegments{Tuple{Vector{Point{2, Float32}}}}\n",
       "    ├ LineSegments{Tuple{Vector{Point{2, Float32}}}}\n",
       "    ├ MakieCore.Text{Tuple{String}}\n",
       "    ├ Lines{Tuple{Vector{Point{2, Float32}}}}\n",
       "    ├ MakieCore.Text{Tuple{Vector{Tuple{AbstractString, Point{2, Float32}}}}}\n",
       "    ├ Lines{Tuple{Vector{Point{2, Float32}}}}\n",
       "    ├ Lines{Tuple{Vector{Point{2, Float32}}}}\n",
       "    └ MakieCore.Text{Tuple{String}}\n",
       "  1 Child Scene:\n",
       "    └ Scene (725px, 120px)"
      ]
     },
     "metadata": {},
     "output_type": "display_data"
    }
   ],
   "source": [
    "farray = replace(minat_array,\"none\"=>0) # convert minat_array to floats suitable for graphing\n",
    "initfarray = farray[1:10]\n",
    "\n",
    "\n",
    "y=convert(Array{Float64,1}, farray)\n",
    "y=log10.(y)\n",
    "\n",
    "using CairoMakie\n",
    "figure = CairoMakie.Figure(resolution = (800, 200))\n",
    "ax1 = figure[1, 1] = Axis(figure, xlabel = \"log 10(level of difficulty)\", ylabel = \"least examplar\", textsize = 12, title=\" \")\n",
    "x = 1:100\n",
    "l1=lines!(ax1, x, y)\n",
    "display(figure)\n"
   ]
  }
 ],
 "metadata": {
  "kernelspec": {
   "display_name": "Julia 1.7.2",
   "language": "julia",
   "name": "julia-1.7"
  },
  "language_info": {
   "file_extension": ".jl",
   "mimetype": "application/julia",
   "name": "julia",
   "version": "1.7.2"
  }
 },
 "nbformat": 4,
 "nbformat_minor": 5
}
